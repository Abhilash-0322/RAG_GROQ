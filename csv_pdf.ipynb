{
 "cells": [
  {
   "cell_type": "code",
   "execution_count": 6,
   "metadata": {},
   "outputs": [
    {
     "name": "stdout",
     "output_type": "stream",
     "text": [
      "Collecting fpdf2\n",
      "  Downloading fpdf2-2.8.2-py2.py3-none-any.whl.metadata (67 kB)\n",
      "Requirement already satisfied: defusedxml in d:\\anaconda\\lib\\site-packages (from fpdf2) (0.7.1)\n",
      "Requirement already satisfied: Pillow!=9.2.*,>=6.2.2 in d:\\anaconda\\lib\\site-packages (from fpdf2) (10.4.0)\n",
      "Requirement already satisfied: fonttools>=4.34.0 in d:\\anaconda\\lib\\site-packages (from fpdf2) (4.51.0)\n",
      "Downloading fpdf2-2.8.2-py2.py3-none-any.whl (236 kB)\n",
      "Installing collected packages: fpdf2\n",
      "Successfully installed fpdf2-2.8.2\n"
     ]
    }
   ],
   "source": [
    "!pip install fpdf2"
   ]
  },
  {
   "cell_type": "code",
   "execution_count": 7,
   "metadata": {},
   "outputs": [],
   "source": [
    "import pandas as pd\n",
    "from fpdf import FPDF"
   ]
  },
  {
   "cell_type": "code",
   "execution_count": 12,
   "metadata": {},
   "outputs": [
    {
     "name": "stdout",
     "output_type": "stream",
     "text": [
      "PDF successfully created at: output.pdf\n"
     ]
    }
   ],
   "source": [
    "def csv_to_pdf(csv_file, output_pdf):\n",
    "    \"\"\"\n",
    "    Converts a CSV file into a row-wise PDF with Unicode support.\n",
    "\n",
    "    Args:\n",
    "        csv_file (str): Path to the CSV file.\n",
    "        output_pdf (str): Path to the output PDF file.\n",
    "    \"\"\"\n",
    "    # Load CSV file\n",
    "    df = pd.read_csv(csv_file)\n",
    "\n",
    "    # Initialize FPDF\n",
    "    pdf = FPDF()\n",
    "    pdf.add_page()\n",
    "    pdf.set_auto_page_break(auto=True, margin=15)\n",
    "\n",
    "    # Set a Unicode-compatible font\n",
    "    pdf.add_font(\"DejaVu\", \"\", \"DejaVuSans.ttf\", uni=True)\n",
    "    pdf.set_font(\"DejaVu\", size=12)\n",
    "\n",
    "    # Write the header\n",
    "    pdf.set_font(\"DejaVu\", size=14)\n",
    "    pdf.cell(0, 10, \"Row-wise Data from CSV File\", ln=True, align=\"C\")\n",
    "    pdf.ln(10)\n",
    "\n",
    "    # Iterate through each row in the DataFrame\n",
    "    for index, row in df.iterrows():\n",
    "        pdf.set_font(\"DejaVu\", size=12)\n",
    "        pdf.cell(0, 10, f\"Row {index + 1}:\", ln=True)\n",
    "        pdf.set_font(\"DejaVu\", size=10)\n",
    "\n",
    "        # Write each column and its value\n",
    "        for col in df.columns:\n",
    "            value = str(row[col])\n",
    "            pdf.multi_cell(0, 10, f\"{col}: {value}\")\n",
    "        pdf.ln(5)  # Add space between rows\n",
    "\n",
    "    # Save the PDF\n",
    "    pdf.output(output_pdf)\n",
    "    print(f\"PDF successfully created at: {output_pdf}\")\n",
    "\n",
    "# Example usage\n",
    "csv_file_path = \"bhagwatgita_queeng.csv\"  # Replace with your CSV file path\n",
    "output_pdf_path = \"dataset.pdf\"  # Replace with your desired PDF file path\n",
    "\n",
    "csv_to_pdf(csv_file_path, output_pdf_path)"
   ]
  }
 ],
 "metadata": {
  "kernelspec": {
   "display_name": "base",
   "language": "python",
   "name": "python3"
  },
  "language_info": {
   "codemirror_mode": {
    "name": "ipython",
    "version": 3
   },
   "file_extension": ".py",
   "mimetype": "text/x-python",
   "name": "python",
   "nbconvert_exporter": "python",
   "pygments_lexer": "ipython3",
   "version": "3.12.7"
  }
 },
 "nbformat": 4,
 "nbformat_minor": 2
}
